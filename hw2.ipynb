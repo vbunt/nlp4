{
 "cells": [
  {
   "cell_type": "markdown",
   "id": "6a6710a9",
   "metadata": {},
   "source": [
    "#### Валерия Бунтякова"
   ]
  },
  {
   "cell_type": "markdown",
   "id": "14e80056",
   "metadata": {},
   "source": [
    "## 1: описание методов"
   ]
  },
  {
   "cell_type": "markdown",
   "id": "bc7786bc",
   "metadata": {},
   "source": [
    "1. Составить словарь сущностей. Данные: названия товаров. Плюсы: достаточно быстро и очень просто. Минусы: вынимаются лишние штуки.\n",
    "2. Теггинг последовательностей. Данные: тексты отзывов или типа того. Плюсы: кажется это очень хорошо работает + без учителя. Минусы: надо много данных.\n",
    "3. :о)"
   ]
  },
  {
   "cell_type": "markdown",
   "id": "5644f7cd",
   "metadata": {},
   "source": [
    "## 2: поиск именованых сущностей"
   ]
  },
  {
   "cell_type": "code",
   "execution_count": 1,
   "id": "8d8f31d7",
   "metadata": {},
   "outputs": [],
   "source": [
    "from collections import Counter\n",
    "import random\n",
    "import re\n",
    "import pandas as pd\n",
    "import gzip"
   ]
  },
  {
   "cell_type": "code",
   "execution_count": 2,
   "id": "499ebfd2",
   "metadata": {},
   "outputs": [],
   "source": [
    "def parse(path):\n",
    "    g = gzip.open(path, 'rb')\n",
    "    for l in g:\n",
    "        yield eval(l)\n",
    "\n",
    "def getDF(path):\n",
    "    i = 0\n",
    "    df = {}\n",
    "    for d in parse(path):\n",
    "        df[i] = d\n",
    "        i += 1\n",
    "    return pd.DataFrame.from_dict(df, orient='index')\n"
   ]
  },
  {
   "cell_type": "code",
   "execution_count": 3,
   "id": "bc99ba45",
   "metadata": {},
   "outputs": [],
   "source": [
    "# я использовала датасет с офисными принадлежностями\n",
    "reviews = getDF('reviews_Office_Products_5.json.gz')\n",
    "reviews = reviews[['reviewerID', 'reviewText']]"
   ]
  },
  {
   "cell_type": "code",
   "execution_count": null,
   "id": "1600ea58",
   "metadata": {},
   "outputs": [],
   "source": [
    "# meta = getDF('meta_Office_Products.json.gz')"
   ]
  },
  {
   "cell_type": "markdown",
   "id": "be50ded9",
   "metadata": {},
   "source": [
    "Сначала я хотела вынимать именованные сущности с помощью yargy, как мы делали на семинаре. Потом я поняла, что названия амазоне составлены как бог на душу положит, и ничего умного с ними сделать особо нельзя. Поэтому я стала выписывать в список категории товаров, пока список не начал покрывать >90% названий товаров. "
   ]
  },
  {
   "cell_type": "code",
   "execution_count": 4,
   "id": "3a2c5f28",
   "metadata": {},
   "outputs": [],
   "source": [
    "list_of_entities = ['cartridge', 'envelope', 'strip',\n",
    "                   'stool', 'card', 'wallet',\n",
    "                   'purse', 'shipping label', 'staples',\n",
    "                    'key holder', 'planner', 'fountain pen ink',\n",
    "                   'toner', 'plaque', 'monitor stand',\n",
    "                   'calendar', 'badge reel',\n",
    "                   'border', 'padfolio', 'key cover',\n",
    "                   'paper', 'envelope', 'binder',\n",
    "                   'pen', 'stapler', 'printer',\n",
    "                    'film', 'template', 'poster',\n",
    "                   'workstation', 'keyboard', 'door stop',\n",
    "                   'notebook', 'postcard', 'book', \n",
    "                   'scanner', 'stapler', 'ink',\n",
    "                   'sheet', 'cover', 'desk',\n",
    "                   'feet hammock', 'tape', 'pencil',\n",
    "                   'composition book', 'chair', 'laptop stand', \n",
    "                   'tablet stand', 'cd', 'lamp', \n",
    "                   'doorstop', 'stamp', 'eraser',\n",
    "                   'adhesive', 'calculator', 'note',\n",
    "                   'badge', 'lanyard', 'bag',\n",
    "                   'clip', 'bookmark', 'projector', \n",
    "                   'letter opener', 'opener', 'letter',\n",
    "                   'dictionary', 'photo paper',\n",
    "                   'sign', 'table', 'badge rack', \n",
    "                   'rack', 'cork board', 'board', \n",
    "                   'crane', 'holder', 'phone', \n",
    "                    'toner', 'sharpener', 'keychain',\n",
    "                   'sticker', 'marker', 'separator',\n",
    "                   'notetab', 'laminator', 'pouch',\n",
    "                   'tab', 'name tag', 'tag',\n",
    "                   'moving set', 'label', 'mouse', 'pad',\n",
    "                   'note', 'mouse', 'bulb',\n",
    "                   'refill', 'pin', 'post-it',\n",
    "                   'flag', 'folder', 'air bubble roll',\n",
    "                   'diary', 'map', 'flag', \n",
    "                    'magnet', 'organizer', 'file',\n",
    "                   'cd-rom']"
   ]
  },
  {
   "cell_type": "markdown",
   "id": "9dd3a499",
   "metadata": {},
   "source": [
    "## 3: вынуть биграммы"
   ]
  },
  {
   "cell_type": "markdown",
   "id": "1e78d90a",
   "metadata": {},
   "source": [
    "Штука которая вынимает биграммы. Можно ли было сделать это не регуляркой, и было бы лучше? Да. Когда начал пользоваться регулярками сложно остановится. "
   ]
  },
  {
   "cell_type": "code",
   "execution_count": 5,
   "id": "8d1e28fb",
   "metadata": {},
   "outputs": [],
   "source": [
    "r = re.compile('(?P<before>[\\w-]+)(?: |\\.|,)+(' + '|'.join(list_of_entities) + ')(?:ing|s)*(?: |\\.|,)+(?P<after>[\\w-]+)')"
   ]
  },
  {
   "cell_type": "markdown",
   "id": "d6b8ff85",
   "metadata": {},
   "source": [
    "Уберем стопслова, чтобы биграммы получились более осмысленными, а не только \"the <название товара>\""
   ]
  },
  {
   "cell_type": "code",
   "execution_count": 6,
   "id": "1abb5eee",
   "metadata": {},
   "outputs": [],
   "source": [
    "from nltk.tokenize import word_tokenize"
   ]
  },
  {
   "cell_type": "code",
   "execution_count": 7,
   "id": "da2dbd47",
   "metadata": {},
   "outputs": [],
   "source": [
    "with open('english_stopwords.txt', 'r') as file:\n",
    "    stopwords = file.read().split()\n",
    "    stopwords = stopwords + ['the',]"
   ]
  },
  {
   "cell_type": "code",
   "execution_count": 8,
   "id": "ece54112",
   "metadata": {},
   "outputs": [],
   "source": [
    "revs = reviews.reviewText.values"
   ]
  },
  {
   "cell_type": "markdown",
   "id": "4d48dfb5",
   "metadata": {},
   "source": [
    "Будем считать размер корпуса в словах и хранить частотный словарь слов, чтобы потом можно было использовать это при подсчете метрик."
   ]
  },
  {
   "cell_type": "code",
   "execution_count": 9,
   "id": "236757d3",
   "metadata": {},
   "outputs": [],
   "source": [
    "corpus_len = 0\n",
    "word_dict = Counter()\n",
    "clean = []\n",
    "for rev in revs:\n",
    "    new = [w.lower() for w in word_tokenize(rev) if w.lower() not in stopwords]\n",
    "    corpus_len += len(new)\n",
    "    for word in new:\n",
    "        word_dict[word] += 1\n",
    "    clean.append(' '.join(new))"
   ]
  },
  {
   "cell_type": "code",
   "execution_count": 10,
   "id": "21972ded",
   "metadata": {},
   "outputs": [],
   "source": [
    "del revs, reviews"
   ]
  },
  {
   "cell_type": "code",
   "execution_count": 11,
   "id": "a7fcd890",
   "metadata": {},
   "outputs": [
    {
     "data": {
      "text/plain": [
       "5015474"
      ]
     },
     "execution_count": 11,
     "metadata": {},
     "output_type": "execute_result"
    }
   ],
   "source": [
    "corpus_len"
   ]
  },
  {
   "cell_type": "code",
   "execution_count": 12,
   "id": "6c930d35",
   "metadata": {},
   "outputs": [
    {
     "name": "stdout",
     "output_type": "stream",
     "text": [
      "47477\n"
     ]
    }
   ],
   "source": [
    "collocations = []\n",
    "n = 0\n",
    "for c in clean:\n",
    "    found = re.findall(r, c)\n",
    "    if found:\n",
    "        n += 1\n",
    "    for f in found:\n",
    "        collocations.append((f[0], f[1]))\n",
    "        collocations.append((f[1], f[2]))\n",
    "print(n)"
   ]
  },
  {
   "cell_type": "code",
   "execution_count": 13,
   "id": "987414b1",
   "metadata": {},
   "outputs": [],
   "source": [
    "col_count = Counter(collocations)"
   ]
  },
  {
   "cell_type": "code",
   "execution_count": 14,
   "id": "2bb622b1",
   "metadata": {},
   "outputs": [
    {
     "data": {
      "text/plain": [
       "1018"
      ]
     },
     "execution_count": 14,
     "metadata": {},
     "output_type": "execute_result"
    }
   ],
   "source": [
    "col_count[('ink', 'cartridge')]"
   ]
  },
  {
   "cell_type": "markdown",
   "id": "481fba92",
   "metadata": {},
   "source": [
    "## 4: коллокационные метрики"
   ]
  },
  {
   "cell_type": "code",
   "execution_count": 15,
   "id": "d28ec21f",
   "metadata": {},
   "outputs": [],
   "source": [
    "from math import sqrt, log"
   ]
  },
  {
   "cell_type": "code",
   "execution_count": 16,
   "id": "1c1747d6",
   "metadata": {},
   "outputs": [],
   "source": [
    "def t_score(bigram, counter, word_dict, corpus_len):\n",
    "    bigr_freq = counter[bigram] / corpus_len\n",
    "    \n",
    "    w1 = bigram[0]\n",
    "    w2 = bigram[1]\n",
    "    \n",
    "    p1 = word_dict[w1] / corpus_len\n",
    "    p2 = word_dict[w2] / corpus_len\n",
    "    \n",
    "    return (bigr_freq - p1 * p2) / sqrt(bigr_freq/corpus_len)"
   ]
  },
  {
   "cell_type": "code",
   "execution_count": 17,
   "id": "842d5b2c",
   "metadata": {},
   "outputs": [],
   "source": [
    "def pmi(bigram, counter, word_dict, corpus_len):\n",
    "    w1 = bigram[0]\n",
    "    w2 = bigram[1]\n",
    "    \n",
    "    p1 = word_dict[w1] / corpus_len\n",
    "    p2 = word_dict[w2] / corpus_len\n",
    "    \n",
    "    return log(counter[bigram]/(p1*p2), 2)"
   ]
  },
  {
   "cell_type": "code",
   "execution_count": 18,
   "id": "c4ac9b4d",
   "metadata": {},
   "outputs": [],
   "source": [
    "def dice(bigram, counter, word_dict):\n",
    "    w1 = bigram[0]\n",
    "    w2 = bigram[1]\n",
    "    \n",
    "    return 2*(counter[bigram]) / (word_dict[w1] + word_dict[w2])"
   ]
  },
  {
   "cell_type": "markdown",
   "id": "2a327590",
   "metadata": {},
   "source": [
    "Запишем в словарь значения метрик для кажой коллокации"
   ]
  },
  {
   "cell_type": "code",
   "execution_count": 19,
   "id": "76609314",
   "metadata": {},
   "outputs": [],
   "source": [
    "def do_nothing():\n",
    "    return"
   ]
  },
  {
   "cell_type": "code",
   "execution_count": 20,
   "id": "ee48e22e",
   "metadata": {},
   "outputs": [],
   "source": [
    "d = {}\n",
    "for bigram, freq in col_count.items():\n",
    "    if freq > 3:\n",
    "        try:\n",
    "            ts_ = t_score(bigram, col_count, word_dict, corpus_len)\n",
    "            pmi_ = pmi(bigram, col_count, word_dict, corpus_len)\n",
    "            dice_ = dice(bigram, col_count, word_dict)\n",
    "            d[bigram] = {'freq':freq, 't-score':ts_, 'pmi':pmi_, 'dice':dice_}\n",
    "        except:\n",
    "            # если мы вынули коллокацию с какой-то штукой, которой нет в словаре\n",
    "            do_nothing()"
   ]
  },
  {
   "cell_type": "markdown",
   "id": "406ea969",
   "metadata": {},
   "source": [
    "Чтобы найти лучшую метрику, посчитаем, что получается при разных метриках для одного и того же слова (pencil). Выберем сочетания, которые были бы нам полезны (good pencil, nice pencil) и посмотрим, как они ранжируются. "
   ]
  },
  {
   "cell_type": "code",
   "execution_count": 21,
   "id": "3ddac361",
   "metadata": {
    "scrolled": true
   },
   "outputs": [],
   "source": [
    "t_score_pencil = [pair for pair in \n",
    "                  sorted(d.keys(), key=lambda x: d[x]['t-score'], reverse=True) \n",
    "                  if pair[1] == 'pencil' or pair[0] == 'pencil'] \n",
    "pmi_pencil = [pair for pair in \n",
    "                  sorted(d.keys(), key=lambda x: d[x]['pmi'], reverse=True) \n",
    "                  if pair[1] == 'pencil' or pair[0] == 'pencil'] \n",
    "dice_pencil = [pair for pair in \n",
    "                  sorted(d.keys(), key=lambda x: d[x]['dice'], reverse=True) \n",
    "                  if pair[1] == 'pencil' or pair[0] == 'pencil'] "
   ]
  },
  {
   "cell_type": "code",
   "execution_count": 22,
   "id": "8425c1d6",
   "metadata": {},
   "outputs": [
    {
     "name": "stdout",
     "output_type": "stream",
     "text": [
      "t-score:  1075\n",
      "pmi:  2214\n",
      "dice:  887\n"
     ]
    }
   ],
   "source": [
    "dice_score, pmi_score, ts_score = 0, 0, 0\n",
    "\n",
    "for word in ['good', 'nice', 'great', 'expensive', 'cheap']:\n",
    "    col = (word, 'pencil')\n",
    "    ts_score += t_score_pencil.index(col)\n",
    "    pmi_score += pmi_pencil.index(col)\n",
    "    dice_score += dice_pencil.index(col)\n",
    "    \n",
    "print('t-score: ', ts_score)\n",
    "print('pmi: ', pmi_score)\n",
    "print('dice: ', dice_score)"
   ]
  },
  {
   "cell_type": "markdown",
   "id": "471421f8",
   "metadata": {},
   "source": [
    "Выбираем ту метрику, которая показывает меньшую сумму индексов, то есть выводит подходящие коллокации выше. Берем Дайса!"
   ]
  },
  {
   "cell_type": "markdown",
   "id": "2bd4ce66",
   "metadata": {},
   "source": [
    "## 5: вывести примеры"
   ]
  },
  {
   "cell_type": "code",
   "execution_count": 23,
   "id": "ab5ead9a",
   "metadata": {},
   "outputs": [
    {
     "data": {
      "text/plain": [
       "[('pencil', 'sharpener'),\n",
       " ('mechanical', 'pencil'),\n",
       " ('colored', 'pencil'),\n",
       " ('electric', 'pencil'),\n",
       " ('pencil', 'sharpeners'),\n",
       " ('sharpen', 'pencil'),\n",
       " ('sharpening', 'pencil'),\n",
       " ('pencil', 'n'),\n",
       " ('pencil', 'sharpened'),\n",
       " ('sharpens', 'pencil')]"
      ]
     },
     "execution_count": 23,
     "metadata": {},
     "output_type": "execute_result"
    }
   ],
   "source": [
    "# pencil\n",
    "[pair for pair in \n",
    " sorted(d.keys(), key=lambda x: d[x]['dice'], reverse=True) \n",
    " if pair[1] == 'pencil' or pair[0] == 'pencil'][:10]"
   ]
  },
  {
   "cell_type": "code",
   "execution_count": 24,
   "id": "6d69cedf",
   "metadata": {},
   "outputs": [
    {
     "data": {
      "text/plain": [
       "[('laser', 'printer'),\n",
       " ('inkjet', 'printer'),\n",
       " ('photo', 'printer'),\n",
       " ('epson', 'printer'),\n",
       " ('hp', 'printer'),\n",
       " ('printer', 'n'),\n",
       " ('canon', 'printer'),\n",
       " ('all-in-one', 'printer'),\n",
       " ('wireless', 'printer'),\n",
       " ('new', 'printer')]"
      ]
     },
     "execution_count": 24,
     "metadata": {},
     "output_type": "execute_result"
    }
   ],
   "source": [
    "# printer\n",
    "[pair for pair in \n",
    " sorted(d.keys(), key=lambda x: d[x]['dice'], reverse=True) \n",
    " if pair[1] == 'printer' or pair[0] == 'printer'][:10]"
   ]
  },
  {
   "cell_type": "code",
   "execution_count": 25,
   "id": "5015cc41",
   "metadata": {},
   "outputs": [
    {
     "data": {
      "text/plain": [
       "[('sheet', 'paper'),\n",
       " ('paper', 'tray'),\n",
       " ('piece', 'paper'),\n",
       " ('paper', 'n'),\n",
       " ('plain', 'paper'),\n",
       " ('pieces', 'paper'),\n",
       " ('paper', 'trays'),\n",
       " ('quality', 'paper'),\n",
       " ('regular', 'paper'),\n",
       " ('stack', 'paper')]"
      ]
     },
     "execution_count": 25,
     "metadata": {},
     "output_type": "execute_result"
    }
   ],
   "source": [
    "# paper\n",
    "[pair for pair in \n",
    " sorted(d.keys(), key=lambda x: d[x]['dice'], reverse=True) \n",
    " if pair[1] == 'paper' or pair[0] == 'paper'][:10]"
   ]
  },
  {
   "cell_type": "code",
   "execution_count": 26,
   "id": "5ad55dbd",
   "metadata": {},
   "outputs": [
    {
     "data": {
      "text/plain": [
       "[('envelope', 'n'),\n",
       " ('security', 'envelope'),\n",
       " ('padded', 'envelope'),\n",
       " ('seal', 'envelope'),\n",
       " ('reveal-n-seal', 'envelope'),\n",
       " ('sealing', 'envelope'),\n",
       " ('licking', 'envelope'),\n",
       " ('mailing', 'envelope'),\n",
       " ('manila', 'envelope'),\n",
       " ('10', 'envelope')]"
      ]
     },
     "execution_count": 26,
     "metadata": {},
     "output_type": "execute_result"
    }
   ],
   "source": [
    "# envelope\n",
    "[pair for pair in \n",
    " sorted(d.keys(), key=lambda x: d[x]['dice'], reverse=True) \n",
    " if pair[1] == 'envelope' or pair[0] == 'envelope'][:10]"
   ]
  },
  {
   "cell_type": "code",
   "execution_count": 27,
   "id": "2e26ff86",
   "metadata": {},
   "outputs": [
    {
     "data": {
      "text/plain": [
       "[('sticky', 'note'),\n",
       " ('post-it', 'note'),\n",
       " ('post', 'note'),\n",
       " ('taking', 'note'),\n",
       " ('note', 'n'),\n",
       " ('take', 'note'),\n",
       " ('quick', 'note'),\n",
       " ('note', 'tabs'),\n",
       " ('note', 'taking'),\n",
       " ('write', 'note')]"
      ]
     },
     "execution_count": 27,
     "metadata": {},
     "output_type": "execute_result"
    }
   ],
   "source": [
    "# note\n",
    "[pair for pair in \n",
    " sorted(d.keys(), key=lambda x: d[x]['dice'], reverse=True) \n",
    " if pair[1] == 'note' or pair[0] == 'note'][:10]"
   ]
  },
  {
   "cell_type": "code",
   "execution_count": null,
   "id": "402a0f3a",
   "metadata": {},
   "outputs": [],
   "source": []
  }
 ],
 "metadata": {
  "kernelspec": {
   "display_name": "Python 3 (ipykernel)",
   "language": "python",
   "name": "python3"
  },
  "language_info": {
   "codemirror_mode": {
    "name": "ipython",
    "version": 3
   },
   "file_extension": ".py",
   "mimetype": "text/x-python",
   "name": "python",
   "nbconvert_exporter": "python",
   "pygments_lexer": "ipython3",
   "version": "3.10.6"
  }
 },
 "nbformat": 4,
 "nbformat_minor": 5
}
